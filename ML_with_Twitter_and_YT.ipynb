{
  "cells": [
    {
      "cell_type": "markdown",
      "metadata": {
        "id": "view-in-github",
        "colab_type": "text"
      },
      "source": [
        "<a href=\"https://colab.research.google.com/github/kmjhyn/NLP-Short-Text-Sentiment-Analysis/blob/main/ML_with_Twitter_and_YT.ipynb\" target=\"_parent\"><img src=\"https://colab.research.google.com/assets/colab-badge.svg\" alt=\"Open In Colab\"/></a>"
      ]
    },
    {
      "cell_type": "markdown",
      "id": "15a3a683-140f-48cd-b278-2ec850cedf08",
      "metadata": {
        "id": "15a3a683-140f-48cd-b278-2ec850cedf08"
      },
      "source": [
        "# Sentiment Analysis with ML\n",
        "```yaml\n",
        "Original Code: https://www.kaggle.com/datasets/kazanova/sentiment140\n",
        "Editor: Ji Hyun Kim\n",
        "\n",
        "note:\n",
        "this notebook contains code for sentiment analysis on both twitter dataset and YouTube dataset.\n",
        "Both are pre-processed, but training is done based on Twitter and the pickled model is used to analyze YouTube dataset.\n",
        "\n",
        "```\n"
      ]
    },
    {
      "cell_type": "code",
      "execution_count": null,
      "id": "d8b3f75d-5065-4c56-86d2-2f90129676e0",
      "metadata": {
        "colab": {
          "base_uri": "https://localhost:8080/"
        },
        "id": "d8b3f75d-5065-4c56-86d2-2f90129676e0",
        "outputId": "acc711da-a0ca-41f0-bcb7-abf759c26098"
      },
      "outputs": [
        {
          "output_type": "stream",
          "name": "stderr",
          "text": [
            "[nltk_data] Downloading package punkt to /root/nltk_data...\n",
            "[nltk_data]   Unzipping tokenizers/punkt.zip.\n",
            "[nltk_data] Downloading package stopwords to /root/nltk_data...\n",
            "[nltk_data]   Unzipping corpora/stopwords.zip.\n",
            "[nltk_data] Downloading package wordnet to /root/nltk_data...\n"
          ]
        }
      ],
      "source": [
        "# utilities\n",
        "import re\n",
        "import pickle\n",
        "import numpy as np\n",
        "import pandas as pd\n",
        "\n",
        "# plotting\n",
        "import seaborn as sns\n",
        "from wordcloud import WordCloud\n",
        "import matplotlib.pyplot as plt\n",
        "\n",
        "# nltk\n",
        "from nltk.stem import WordNetLemmatizer\n",
        "#additional nltk\n",
        "import nltk\n",
        "from nltk.tokenize import word_tokenize\n",
        "from nltk.corpus import stopwords\n",
        "from nltk.stem import WordNetLemmatizer\n",
        "nltk.download('punkt')\n",
        "nltk.download('stopwords')\n",
        "nltk.download('wordnet')\n",
        "\n",
        "# sklearn\n",
        "from sklearn.svm import LinearSVC\n",
        "from sklearn.naive_bayes import BernoulliNB\n",
        "from sklearn.linear_model import LogisticRegression\n",
        "#additional sklearn\n",
        "from sklearn.ensemble import RandomForestClassifier, GradientBoostingClassifier\n",
        "from sklearn.neighbors import KNeighborsClassifier\n",
        "\n",
        "from sklearn.model_selection import train_test_split\n",
        "from sklearn.feature_extraction.text import TfidfVectorizer\n",
        "from sklearn.metrics import confusion_matrix, classification_report"
      ]
    },
    {
      "cell_type": "code",
      "execution_count": null,
      "id": "o6jsEC2RLjU5",
      "metadata": {
        "colab": {
          "base_uri": "https://localhost:8080/"
        },
        "id": "o6jsEC2RLjU5",
        "outputId": "b4430e71-25e4-4634-95af-c326334b1e6b"
      },
      "outputs": [
        {
          "output_type": "stream",
          "name": "stdout",
          "text": [
            "Mounted at /content/drive\n"
          ]
        }
      ],
      "source": [
        "from google.colab import drive\n",
        "drive.mount('/content/drive')"
      ]
    },
    {
      "cell_type": "markdown",
      "id": "2457048d-15d7-43e2-9883-514ec686ee07",
      "metadata": {
        "id": "2457048d-15d7-43e2-9883-514ec686ee07"
      },
      "source": [
        "## Importing dataset\n",
        "\n",
        "The dataset being used is the **sentiment140 dataset**. It contains 1,600,000 tweets extracted using the Twitter API. It contains the following 6 fields:\n",
        "\n",
        "- **sentiment**: the polarity of the tweet\n",
        "- ids: The id of the tweet\n",
        "- date: the date of the tweet\n",
        "- flag: The query. If there is no query, then this value is NO_QUERY.\n",
        "- user: the user that tweeted\n",
        "- **text**: the text of the tweet\n",
        "\n",
        "We require only the **sentiment** and **text** fields, so we discard the rest and change the value of sentiment as **0 = Negative and 1 = Positive**"
      ]
    },
    {
      "cell_type": "code",
      "execution_count": null,
      "id": "c7efff2a-ae3c-41cb-ba1f-a25de3f0a756",
      "metadata": {
        "colab": {
          "base_uri": "https://localhost:8080/"
        },
        "id": "c7efff2a-ae3c-41cb-ba1f-a25de3f0a756",
        "outputId": "aa379203-7788-4b81-c676-ba5bdead8c95"
      },
      "outputs": [
        {
          "output_type": "stream",
          "name": "stdout",
          "text": [
            "Drive already mounted at /content/drive; to attempt to forcibly remount, call drive.mount(\"/content/drive\", force_remount=True).\n",
            "/content/drive/MyDrive\n"
          ]
        }
      ],
      "source": [
        "from google.colab import drive\n",
        "drive.mount('/content/drive')\n",
        "%cd drive/MyDrive\n"
      ]
    },
    {
      "cell_type": "code",
      "execution_count": null,
      "id": "1HywYsCPXTQm",
      "metadata": {
        "colab": {
          "base_uri": "https://localhost:8080/",
          "height": 35
        },
        "id": "1HywYsCPXTQm",
        "outputId": "4fcd9cbb-7570-4a0e-8928-6794727cc2f5"
      },
      "outputs": [
        {
          "output_type": "execute_result",
          "data": {
            "text/plain": [
              "'/content/drive/MyDrive/24Spring/NLP'"
            ],
            "application/vnd.google.colaboratory.intrinsic+json": {
              "type": "string"
            }
          },
          "metadata": {},
          "execution_count": 4
        }
      ],
      "source": [
        "#config\n",
        "data_dir = '/content/drive/MyDrive/24Spring/NLP'\n",
        "data_dir"
      ]
    },
    {
      "cell_type": "code",
      "execution_count": null,
      "id": "52792ff6-38ea-48be-9133-f2bef99972d2",
      "metadata": {
        "colab": {
          "base_uri": "https://localhost:8080/",
          "height": 582
        },
        "id": "52792ff6-38ea-48be-9133-f2bef99972d2",
        "outputId": "b8a2d7f9-424f-43e0-8eb1-e111312ca14e"
      },
      "outputs": [
        {
          "output_type": "stream",
          "name": "stderr",
          "text": [
            "<ipython-input-7-ccd8eca2c5fc>:10: SettingWithCopyWarning: \n",
            "A value is trying to be set on a copy of a slice from a DataFrame.\n",
            "Try using .loc[row_indexer,col_indexer] = value instead\n",
            "\n",
            "See the caveats in the documentation: https://pandas.pydata.org/pandas-docs/stable/user_guide/indexing.html#returning-a-view-versus-a-copy\n",
            "  dataset['sentiment'] = dataset['sentiment'].replace(4,1)\n"
          ]
        },
        {
          "output_type": "display_data",
          "data": {
            "text/plain": [
              "<Figure size 640x480 with 1 Axes>"
            ],
            "image/png": "[encoded data removed]"
          },
          "metadata": {}
        }
      ],
      "source": [
        "# Importing the dataset\n",
        "DATASET_COLUMNS  = [\"sentiment\", \"ids\", \"date\", \"flag\", \"user\", \"text\"]\n",
        "DATASET_ENCODING = \"ISO-8859-1\"\n",
        "dataset = pd.read_csv(f'{data_dir}/training.1600000.processed.noemoticon.csv',\n",
        "                      encoding=DATASET_ENCODING , names=DATASET_COLUMNS)\n",
        "\n",
        "# Removing the unnecessary columns.\n",
        "dataset = dataset[['sentiment','text']]\n",
        "# Replacing the values to ease understanding.\n",
        "dataset['sentiment'] = dataset['sentiment'].replace(4,1)\n",
        "\n",
        "# Plotting the distribution for dataset.\n",
        "ax = dataset.groupby('sentiment').count().plot(kind='bar', title='Distribution of data', legend=False)\n",
        "ax.set_xticklabels(['Negative','Positive'], rotation=0)\n",
        "\n",
        "# Storing data in lists.\n",
        "text, sentiment_1 = list(dataset['text']), list(dataset['sentiment'])"
      ]
    },
    {
      "cell_type": "markdown",
      "id": "65f2673f-987d-41c8-80af-acd7e3eb1cf8",
      "metadata": {
        "id": "65f2673f-987d-41c8-80af-acd7e3eb1cf8"
      },
      "source": [
        "## Preprocess Text\n",
        "- Lower Casing: Each text is converted to lowercase.\n",
        "- Replacing URLs: Links starting with \"http\" or \"https\" or \"www\" are replaced by \"URL\".\n",
        "- Replacing Emojis: Replace emojis by using a pre-defined dictionary containing emojis along with their meaning. (eg: \":)\" to \"EMOJIsmile\")\n",
        "- Replacing Usernames: Replace @Usernames with word \"USER\". (eg: \"@Kaggle\" to \"USER\")\n",
        "- Removing Non-Alphabets: Replacing characters except Digits and Alphabets with a space.\n",
        "- Removing Consecutive letters: 3 or more consecutive letters are replaced by 2 letters. (eg: \"Heyyyy\" to \"Heyy\")\n",
        "- Removing Short Words: Words with length less than 2 are removed."
      ]
    },
    {
      "cell_type": "code",
      "execution_count": null,
      "id": "38ab4045-e8b1-4416-8ddc-fdd685ed0093",
      "metadata": {
        "id": "38ab4045-e8b1-4416-8ddc-fdd685ed0093"
      },
      "outputs": [],
      "source": [
        "# Defining dictionary containing all emojis with their meanings.\n",
        "emojis = {':)': 'smile', ':-)': 'smile', ';d': 'wink', ':-E': 'vampire', ':(': 'sad',\n",
        "          ':-(': 'sad', ':-<': 'sad', ':P': 'raspberry', ':O': 'surprised',\n",
        "          ':-@': 'shocked', ':@': 'shocked',':-$': 'confused', ':\\\\': 'annoyed',\n",
        "          ':#': 'mute', ':X': 'mute', ':^)': 'smile', ':-&': 'confused', '$_$': 'greedy',\n",
        "          '@@': 'eyeroll', ':-!': 'confused', ':-D': 'smile', ':-0': 'yell', 'O.o': 'confused',\n",
        "          '<(-_-)>': 'robot', 'd[-_-]b': 'dj', \":'-)\": 'sadsmile', ';)': 'wink',\n",
        "          ';-)': 'wink', 'O:-)': 'angel','O*-)': 'angel','(:-D': 'gossip', '=^.^=': 'cat'}\n",
        "\n",
        "stopwordlist = set(stopwords.words('english'))\n",
        "\n",
        "# for w in word_tokens:\n",
        "#     if w not in stop_words:\n",
        "#         filtered_sentence.append(w)\n",
        "\n",
        "\n",
        "def preprocess(textdata):\n",
        "    # filtered_sentence = []\n",
        "    processedText = []\n",
        "\n",
        "    # Create Lemmatizer and Stemmer.\n",
        "    wordLemm = WordNetLemmatizer()\n",
        "\n",
        "    # Defining regex patterns.\n",
        "    urlPattern        = r\"((http://)[^ ]*|(https://)[^ ]*|( www\\.)[^ ]*)\"\n",
        "    userPattern       = '@[^\\s]+'\n",
        "    alphaPattern      = \"[^a-zA-Z0-9]\"\n",
        "    sequencePattern   = r\"(.)\\1\\1+\"\n",
        "    seqReplacePattern = r\"\\1\\1\"\n",
        "\n",
        "    for tweet in textdata:\n",
        "        tweet = tweet.lower()\n",
        "\n",
        "        # Replace all URls with 'URL'\n",
        "        tweet = re.sub(urlPattern,' URL',tweet)\n",
        "        # Replace all emojis.\n",
        "        for emoji in emojis.keys():\n",
        "            tweet = tweet.replace(emoji, \"EMOJI\" + emojis[emoji])\n",
        "        # Replace @USERNAME to 'USER'.\n",
        "        tweet = re.sub(userPattern,' USER', tweet)\n",
        "        # Replace all non alphabets.\n",
        "        tweet = re.sub(alphaPattern, \" \", tweet)\n",
        "        # Replace 3 or more consecutive letters by 2 letter.\n",
        "        tweet = re.sub(sequencePattern, seqReplacePattern, tweet)\n",
        "\n",
        "        tweetwords = ''\n",
        "        for word in tweet.split():\n",
        "            # Checking if the word is a stopword.\n",
        "            if word in stopwordlist:\n",
        "              continue\n",
        "\n",
        "            if len(word)>1:\n",
        "                # Lemmatizing the word.\n",
        "                word = wordLemm.lemmatize(word)\n",
        "                tweetwords += (word+' ')\n",
        "\n",
        "        processedText.append(tweetwords)\n",
        "\n",
        "    return processedText"
      ]
    },
    {
      "cell_type": "code",
      "source": [
        "# stopwordlist"
      ],
      "metadata": {
        "id": "Sg02nDmNTtD2"
      },
      "id": "Sg02nDmNTtD2",
      "execution_count": null,
      "outputs": []
    },
    {
      "cell_type": "code",
      "execution_count": null,
      "id": "f264ad7d-1d56-4164-8709-e153742730e4",
      "metadata": {
        "colab": {
          "base_uri": "https://localhost:8080/",
          "height": 221
        },
        "id": "f264ad7d-1d56-4164-8709-e153742730e4",
        "outputId": "0ffa3568-bf3b-4938-8886-3d59fd55944e"
      },
      "outputs": [
        {
          "output_type": "error",
          "ename": "NameError",
          "evalue": "name 'text' is not defined",
          "traceback": [
            "\u001b[0;31m---------------------------------------------------------------------------\u001b[0m",
            "\u001b[0;31mNameError\u001b[0m                                 Traceback (most recent call last)",
            "\u001b[0;32m<ipython-input-9-9ca569317ce6>\u001b[0m in \u001b[0;36m<cell line: 3>\u001b[0;34m()\u001b[0m\n\u001b[1;32m      1\u001b[0m \u001b[0;32mimport\u001b[0m \u001b[0mtime\u001b[0m\u001b[0;34m\u001b[0m\u001b[0;34m\u001b[0m\u001b[0m\n\u001b[1;32m      2\u001b[0m \u001b[0mt\u001b[0m \u001b[0;34m=\u001b[0m \u001b[0mtime\u001b[0m\u001b[0;34m.\u001b[0m\u001b[0mtime\u001b[0m\u001b[0;34m(\u001b[0m\u001b[0;34m)\u001b[0m\u001b[0;34m\u001b[0m\u001b[0;34m\u001b[0m\u001b[0m\n\u001b[0;32m----> 3\u001b[0;31m \u001b[0mprocessedtext_1\u001b[0m \u001b[0;34m=\u001b[0m \u001b[0mpreprocess\u001b[0m\u001b[0;34m(\u001b[0m\u001b[0mtext\u001b[0m\u001b[0;34m)\u001b[0m\u001b[0;34m\u001b[0m\u001b[0;34m\u001b[0m\u001b[0m\n\u001b[0m\u001b[1;32m      4\u001b[0m \u001b[0mprint\u001b[0m\u001b[0;34m(\u001b[0m\u001b[0;34mf'Text Preprocessing complete.'\u001b[0m\u001b[0;34m)\u001b[0m\u001b[0;34m\u001b[0m\u001b[0;34m\u001b[0m\u001b[0m\n\u001b[1;32m      5\u001b[0m \u001b[0mprint\u001b[0m\u001b[0;34m(\u001b[0m\u001b[0;34mf'Time Taken: {round(time.time()-t)} seconds'\u001b[0m\u001b[0;34m)\u001b[0m\u001b[0;34m\u001b[0m\u001b[0;34m\u001b[0m\u001b[0m\n",
            "\u001b[0;31mNameError\u001b[0m: name 'text' is not defined"
          ]
        }
      ],
      "source": [
        "import time\n",
        "t = time.time()\n",
        "processedtext_1 = preprocess(text)\n",
        "print(f'Text Preprocessing complete.')\n",
        "print(f'Time Taken: {round(time.time()-t)} seconds')"
      ]
    },
    {
      "cell_type": "markdown",
      "id": "SsTTijNqdBrC",
      "metadata": {
        "id": "SsTTijNqdBrC"
      },
      "source": [
        "## Processing YouTube dataset\n",
        "This code is for YouTube comments pre-processing\n",
        "The variable `feature_num` will be used later for training Twitter dataset to align the number of features within the trained model to test the YouTube comments dataset."
      ]
    },
    {
      "cell_type": "code",
      "execution_count": null,
      "id": "DKBf_gYMbSI7",
      "metadata": {
        "colab": {
          "base_uri": "https://localhost:8080/"
        },
        "id": "DKBf_gYMbSI7",
        "outputId": "154125ed-8b9e-490e-d493-6e384552ce12"
      },
      "outputs": [
        {
          "output_type": "stream",
          "name": "stdout",
          "text": [
            "Text Preprocessing complete.\n",
            "Time Taken: 0 seconds\n",
            "Vectoriser fitted.\n",
            "No. of feature_words:  14868\n",
            "Data Transformed.\n"
          ]
        }
      ],
      "source": [
        "comments = pd.read_csv(f'{data_dir}/youtube_ai_comments_20240419_17_57.csv').astype(str)\n",
        "comments_colums = [\"id\", \"unnamed: 0\", \"author\", \"published_at\", \"updated_at\", \"like_count\", \"text\"]\n",
        "\n",
        "text_comments = list(comments['text'])\n",
        "\n",
        "t = time.time()\n",
        "processedcomments = preprocess(text_comments)\n",
        "print(f'Text Preprocessing complete.')\n",
        "print(f'Time Taken: {round(time.time()-t)} seconds')\n",
        "\n",
        "X_train_c = processedcomments\n",
        "\n",
        "vectoriser_c = TfidfVectorizer(ngram_range=(1,2), max_features=500000)\n",
        "vectoriser_c.fit(X_train_c)\n",
        "print(f'Vectoriser fitted.')\n",
        "print('No. of feature_words: ', len(vectoriser_c.get_feature_names_out()))\n",
        "\n",
        "X_train_c = vectoriser_c.transform(X_train_c)\n",
        "print(f'Data Transformed.')\n",
        "feature_num = len(vectoriser_c.get_feature_names_out())"
      ]
    },
    {
      "cell_type": "code",
      "source": [
        "# processedcomments"
      ],
      "metadata": {
        "id": "a9oeGGi3TgHe"
      },
      "id": "a9oeGGi3TgHe",
      "execution_count": null,
      "outputs": []
    },
    {
      "cell_type": "markdown",
      "source": [
        "## Further Processing"
      ],
      "metadata": {
        "id": "tViZqaY4-Jte"
      },
      "id": "tViZqaY4-Jte"
    },
    {
      "cell_type": "markdown",
      "id": "95f32d38-d5ad-440d-8c49-9b4cbd12f1b0",
      "metadata": {
        "id": "95f32d38-d5ad-440d-8c49-9b4cbd12f1b0"
      },
      "source": [
        "### Splitting the Data\n",
        "\n",
        "1.6million data points were too big for BERT model, so we scaled dataset into 250,000. ML algorithms were done the same for consistency with BERT.\\\n",
        "Then, data is divided into 2 sets\n",
        "- Training: 70%\n",
        "- Testing: 30%"
      ]
    },
    {
      "cell_type": "code",
      "execution_count": null,
      "id": "ELoUYOPBPrYb",
      "metadata": {
        "id": "ELoUYOPBPrYb",
        "colab": {
          "base_uri": "https://localhost:8080/",
          "height": 221
        },
        "outputId": "9f0a3b4d-98ec-49bb-fcda-19e43f472dcd"
      },
      "outputs": [
        {
          "output_type": "error",
          "ename": "NameError",
          "evalue": "name 'processedtext_1' is not defined",
          "traceback": [
            "\u001b[0;31m---------------------------------------------------------------------------\u001b[0m",
            "\u001b[0;31mNameError\u001b[0m                                 Traceback (most recent call last)",
            "\u001b[0;32m<ipython-input-31-9762c6117d43>\u001b[0m in \u001b[0;36m<cell line: 3>\u001b[0;34m()\u001b[0m\n\u001b[1;32m      1\u001b[0m \u001b[0;31m# processedtext_1[:1]\u001b[0m\u001b[0;34m\u001b[0m\u001b[0;34m\u001b[0m\u001b[0m\n\u001b[1;32m      2\u001b[0m \u001b[0;31m#1,600,000 (80000까지 sentiment 0, 그다음부터 쭉 sentiment 1)\u001b[0m\u001b[0;34m\u001b[0m\u001b[0;34m\u001b[0m\u001b[0m\n\u001b[0;32m----> 3\u001b[0;31m \u001b[0mtext_0\u001b[0m \u001b[0;34m=\u001b[0m \u001b[0mprocessedtext_1\u001b[0m\u001b[0;34m[\u001b[0m\u001b[0;34m:\u001b[0m\u001b[0;36m800000\u001b[0m\u001b[0;34m]\u001b[0m\u001b[0;34m\u001b[0m\u001b[0;34m\u001b[0m\u001b[0m\n\u001b[0m\u001b[1;32m      4\u001b[0m \u001b[0mtext_1\u001b[0m \u001b[0;34m=\u001b[0m \u001b[0mprocessedtext_1\u001b[0m\u001b[0;34m[\u001b[0m\u001b[0;36m800000\u001b[0m\u001b[0;34m:\u001b[0m\u001b[0;34m]\u001b[0m\u001b[0;34m\u001b[0m\u001b[0;34m\u001b[0m\u001b[0m\n\u001b[1;32m      5\u001b[0m \u001b[0mtext_0_new\u001b[0m \u001b[0;34m=\u001b[0m \u001b[0mtext_0\u001b[0m\u001b[0;34m[\u001b[0m\u001b[0;34m:\u001b[0m\u001b[0;36m125000\u001b[0m\u001b[0;34m]\u001b[0m\u001b[0;34m\u001b[0m\u001b[0;34m\u001b[0m\u001b[0m\n",
            "\u001b[0;31mNameError\u001b[0m: name 'processedtext_1' is not defined"
          ]
        }
      ],
      "source": [
        "# processedtext_1[:1]\n",
        "#1,600,000 (80000까지 sentiment 0, 그다음부터 쭉 sentiment 1)\n",
        "text_0 = processedtext_1[:800000]\n",
        "text_1 = processedtext_1[800000:]\n",
        "text_0_new = text_0[:125000]\n",
        "text_1_new = text_1[:125000]\n",
        "processedtext=text_0_new + text_1_new"
      ]
    },
    {
      "cell_type": "code",
      "execution_count": null,
      "id": "sBqM0uUmRdKP",
      "metadata": {
        "colab": {
          "base_uri": "https://localhost:8080/"
        },
        "id": "sBqM0uUmRdKP",
        "outputId": "cb223dd3-2d61-4329-c309-7a0977e6c3d3"
      },
      "outputs": [
        {
          "output_type": "execute_result",
          "data": {
            "text/plain": [
              "250000"
            ]
          },
          "metadata": {},
          "execution_count": 12
        }
      ],
      "source": [
        "# processedtext[:1]\n",
        "len(processedtext)"
      ]
    },
    {
      "cell_type": "code",
      "execution_count": null,
      "id": "Gxn72cHsUw0C",
      "metadata": {
        "id": "Gxn72cHsUw0C"
      },
      "outputs": [],
      "source": [
        "sentiment_0 = sentiment_1[:800000]\n",
        "sentiment_1 = sentiment_1[800000:]\n",
        "sentiment_0_new = sentiment_0[:125000]\n",
        "sentiment_1_new = sentiment_1[:125000]\n",
        "sentiment=sentiment_0_new + sentiment_1_new"
      ]
    },
    {
      "cell_type": "code",
      "execution_count": null,
      "id": "lf5lFAbpV45a",
      "metadata": {
        "colab": {
          "base_uri": "https://localhost:8080/"
        },
        "id": "lf5lFAbpV45a",
        "outputId": "0c11ea55-b280-4552-9626-6fd825062560"
      },
      "outputs": [
        {
          "output_type": "execute_result",
          "data": {
            "text/plain": [
              "250000"
            ]
          },
          "metadata": {},
          "execution_count": 14
        }
      ],
      "source": [
        "len(sentiment)"
      ]
    },
    {
      "cell_type": "code",
      "execution_count": null,
      "id": "a3b428d4-faca-44bb-b2b8-84dc04b5c6d6",
      "metadata": {
        "colab": {
          "base_uri": "https://localhost:8080/"
        },
        "id": "a3b428d4-faca-44bb-b2b8-84dc04b5c6d6",
        "outputId": "881e0ffc-c5b7-4731-b4ca-f1b783eed833"
      },
      "outputs": [
        {
          "output_type": "stream",
          "name": "stdout",
          "text": [
            "Data Split done.\n",
            "175000\n",
            "75000\n",
            "175000\n"
          ]
        }
      ],
      "source": [
        "X_train, X_test, y_train, y_test = train_test_split(processedtext, sentiment, test_size = 0.3, random_state = 0)\n",
        "print(f'Data Split done.')\n",
        "print(len(X_train))\n",
        "print(len(X_test))\n",
        "print(len(y_train))"
      ]
    },
    {
      "cell_type": "markdown",
      "id": "92019b95-3647-45fc-ac1e-d79823396ae2",
      "metadata": {
        "id": "92019b95-3647-45fc-ac1e-d79823396ae2"
      },
      "source": [
        "### TF-IDF Vectoriser\n",
        "tfidf vectoriser trained on x_train dataset\\\n",
        "`ngram_range` = (1,2 )\\\n",
        "`max_feature` = `feature_num`"
      ]
    },
    {
      "cell_type": "code",
      "execution_count": null,
      "id": "d767a72a-583a-41ee-9585-9fcbcf92484b",
      "metadata": {
        "colab": {
          "base_uri": "https://localhost:8080/"
        },
        "id": "d767a72a-583a-41ee-9585-9fcbcf92484b",
        "outputId": "3207a59e-173a-4623-aaef-cc8d5209cac2"
      },
      "outputs": [
        {
          "output_type": "stream",
          "name": "stdout",
          "text": [
            "Vectoriser fitted.\n",
            "No. of feature_words:  19764\n"
          ]
        }
      ],
      "source": [
        "vectoriser = TfidfVectorizer(ngram_range=(1,2), max_features=feature_num)\n",
        "vectoriser.fit(X_train)\n",
        "print(f'Vectoriser fitted.')\n",
        "print('No. of feature_words: ', len(vectoriser.get_feature_names_out()))"
      ]
    },
    {
      "cell_type": "markdown",
      "id": "266309d4-a829-4f85-a395-3c8ed19bbf37",
      "metadata": {
        "id": "266309d4-a829-4f85-a395-3c8ed19bbf37"
      },
      "source": [
        "### Tranforming the dataset"
      ]
    },
    {
      "cell_type": "code",
      "execution_count": null,
      "id": "60ad023d-11e9-442d-b822-b002f71c3076",
      "metadata": {
        "colab": {
          "base_uri": "https://localhost:8080/"
        },
        "id": "60ad023d-11e9-442d-b822-b002f71c3076",
        "outputId": "c51fb23c-68cb-4b49-ee3d-7982fd50cdf8"
      },
      "outputs": [
        {
          "output_type": "stream",
          "name": "stdout",
          "text": [
            "Data Transformed.\n"
          ]
        }
      ],
      "source": [
        "X_train = vectoriser.transform(X_train)\n",
        "X_test  = vectoriser.transform(X_test)\n",
        "print(f'Data Transformed.')"
      ]
    },
    {
      "cell_type": "code",
      "execution_count": null,
      "id": "Ef2N4o0Xw072",
      "metadata": {
        "colab": {
          "base_uri": "https://localhost:8080/"
        },
        "id": "Ef2N4o0Xw072",
        "outputId": "d6d9c387-ed82-419b-995b-b73e745450f3"
      },
      "outputs": [
        {
          "output_type": "stream",
          "name": "stdout",
          "text": [
            "(175000, 19764)\n",
            "(75000, 19764)\n"
          ]
        }
      ],
      "source": [
        "print(X_train.shape)\n",
        "print(X_test.shape)"
      ]
    },
    {
      "cell_type": "markdown",
      "id": "15ccc1b8-62ac-4340-8fb8-1c677488b7a7",
      "metadata": {
        "id": "15ccc1b8-62ac-4340-8fb8-1c677488b7a7"
      },
      "source": [
        "## Creating and Evaluating Models\n",
        "**5 different types of model**\n",
        "\n",
        "- Naive Bayes\n",
        "- LinearSVC\n",
        "- Logistic Regression\n",
        "- Random Forest\n",
        "- Gradient Boosting"
      ]
    },
    {
      "cell_type": "markdown",
      "id": "42ed370f-d5c8-4c98-b882-227981f2c7fd",
      "metadata": {
        "id": "42ed370f-d5c8-4c98-b882-227981f2c7fd"
      },
      "source": [
        "### Evaluate Model Function"
      ]
    },
    {
      "cell_type": "code",
      "execution_count": null,
      "id": "e9eb79c9-6272-47c4-9553-85354e483c11",
      "metadata": {
        "id": "e9eb79c9-6272-47c4-9553-85354e483c11"
      },
      "outputs": [],
      "source": [
        "def model_Evaluate(model):\n",
        "\n",
        "    # Predict values for Test dataset\n",
        "    y_pred = model.predict(X_test)\n",
        "\n",
        "    # Print the evaluation metrics for the dataset.\n",
        "    print(classification_report(y_test, y_pred))\n",
        "\n",
        "    # Compute and plot the Confusion matrix\n",
        "    cf_matrix = confusion_matrix(y_test, y_pred)\n",
        "\n",
        "    categories  = ['Negative','Positive']\n",
        "    group_names = ['True Neg','False Pos', 'False Neg','True Pos']\n",
        "    group_percentages = ['{0:.2%}'.format(value) for value in cf_matrix.flatten() / np.sum(cf_matrix)]\n",
        "\n",
        "    labels = [f'{v1}\\n{v2}' for v1, v2 in zip(group_names,group_percentages)]\n",
        "    labels = np.asarray(labels).reshape(2,2)\n",
        "\n",
        "    sns.heatmap(cf_matrix, annot = labels, cmap = 'Blues',fmt = '',\n",
        "                xticklabels = categories, yticklabels = categories)\n",
        "\n",
        "    plt.xlabel(\"Predicted values\", fontdict = {'size':14}, labelpad = 10)\n",
        "    plt.ylabel(\"Actual values\"   , fontdict = {'size':14}, labelpad = 10)\n",
        "    plt.title (\"Confusion Matrix\", fontdict = {'size':18}, pad = 20)"
      ]
    },
    {
      "cell_type": "markdown",
      "source": [
        "## Results"
      ],
      "metadata": {
        "id": "HejmmTJo5XOj"
      },
      "id": "HejmmTJo5XOj"
    },
    {
      "cell_type": "markdown",
      "id": "300a94c5-83e9-4a9c-b352-7ddc5e1a2269",
      "metadata": {
        "id": "300a94c5-83e9-4a9c-b352-7ddc5e1a2269"
      },
      "source": [
        "### Naive Bayes"
      ]
    },
    {
      "cell_type": "code",
      "execution_count": null,
      "id": "8e739e52-c032-44f8-ab32-0248cd329874",
      "metadata": {
        "colab": {
          "base_uri": "https://localhost:8080/",
          "height": 674
        },
        "id": "8e739e52-c032-44f8-ab32-0248cd329874",
        "outputId": "d1117dd5-46e6-4816-ebe2-2e5af77ec094"
      },
      "outputs": [
        {
          "output_type": "stream",
          "name": "stdout",
          "text": [
            "              precision    recall  f1-score   support\n",
            "\n",
            "           0       0.79      0.78      0.78     37510\n",
            "           1       0.78      0.79      0.79     37490\n",
            "\n",
            "    accuracy                           0.78     75000\n",
            "   macro avg       0.78      0.78      0.78     75000\n",
            "weighted avg       0.78      0.78      0.78     75000\n",
            "\n"
          ]
        },
        {
          "output_type": "display_data",
          "data": {
            "text/plain": [
              "<Figure size 640x480 with 2 Axes>"
            ],
            "image/png": "[encoded data removed]"
          },
          "metadata": {}
        }
      ],
      "source": [
        "BNBmodel = BernoulliNB(alpha = 2)\n",
        "BNBmodel.fit(X_train, y_train)\n",
        "model_Evaluate(BNBmodel)"
      ]
    },
    {
      "cell_type": "markdown",
      "id": "f43cc8b6-7355-4eb2-8f28-67a20cb0b0f2",
      "metadata": {
        "id": "f43cc8b6-7355-4eb2-8f28-67a20cb0b0f2"
      },
      "source": [
        "### LinearSVC Model"
      ]
    },
    {
      "cell_type": "code",
      "execution_count": null,
      "id": "60b027d8-3db7-4afd-ad70-11b45326ac94",
      "metadata": {
        "colab": {
          "base_uri": "https://localhost:8080/",
          "height": 674
        },
        "id": "60b027d8-3db7-4afd-ad70-11b45326ac94",
        "outputId": "8ec9ac47-bcc8-49b5-a8a3-7d4d9d43548b"
      },
      "outputs": [
        {
          "output_type": "stream",
          "name": "stdout",
          "text": [
            "              precision    recall  f1-score   support\n",
            "\n",
            "           0       0.80      0.79      0.80     37510\n",
            "           1       0.79      0.81      0.80     37490\n",
            "\n",
            "    accuracy                           0.80     75000\n",
            "   macro avg       0.80      0.80      0.80     75000\n",
            "weighted avg       0.80      0.80      0.80     75000\n",
            "\n"
          ]
        },
        {
          "output_type": "display_data",
          "data": {
            "text/plain": [
              "<Figure size 640x480 with 2 Axes>"
            ],
            "image/png": "[encoded data removed]"
          },
          "metadata": {}
        }
      ],
      "source": [
        "SVCmodel = LinearSVC()\n",
        "SVCmodel.fit(X_train, y_train)\n",
        "model_Evaluate(SVCmodel)"
      ]
    },
    {
      "cell_type": "markdown",
      "id": "b2c08312-d30e-4c4e-83e1-05dad09f1d6c",
      "metadata": {
        "id": "b2c08312-d30e-4c4e-83e1-05dad09f1d6c"
      },
      "source": [
        "### Logistic Regression Model"
      ]
    },
    {
      "cell_type": "code",
      "execution_count": null,
      "id": "c8ea01c0-96d1-42be-af74-a1258c45a679",
      "metadata": {
        "colab": {
          "base_uri": "https://localhost:8080/",
          "height": 674
        },
        "id": "c8ea01c0-96d1-42be-af74-a1258c45a679",
        "outputId": "a8e1bfc8-6e01-4edd-98a6-d7a4f577f00b"
      },
      "outputs": [
        {
          "output_type": "stream",
          "name": "stdout",
          "text": [
            "              precision    recall  f1-score   support\n",
            "\n",
            "           0       0.81      0.80      0.80     37510\n",
            "           1       0.80      0.81      0.81     37490\n",
            "\n",
            "    accuracy                           0.81     75000\n",
            "   macro avg       0.81      0.81      0.81     75000\n",
            "weighted avg       0.81      0.81      0.81     75000\n",
            "\n"
          ]
        },
        {
          "output_type": "display_data",
          "data": {
            "text/plain": [
              "<Figure size 640x480 with 2 Axes>"
            ],
            "image/png": "[encoded data removed]"
          },
          "metadata": {}
        }
      ],
      "source": [
        "LRmodel = LogisticRegression(C = 2, max_iter = 1000, n_jobs=-1)\n",
        "LRmodel.fit(X_train, y_train)\n",
        "model_Evaluate(LRmodel)"
      ]
    },
    {
      "cell_type": "markdown",
      "id": "_fgPjHYQekIK",
      "metadata": {
        "id": "_fgPjHYQekIK"
      },
      "source": [
        "### RandomForestClassifier\n",
        "뚝떨어짐 70%accuracy"
      ]
    },
    {
      "cell_type": "code",
      "execution_count": null,
      "id": "tjkum_kAeO8x",
      "metadata": {
        "colab": {
          "base_uri": "https://localhost:8080/",
          "height": 674
        },
        "id": "tjkum_kAeO8x",
        "outputId": "66683513-01a0-4526-95a6-d7bc25945e18"
      },
      "outputs": [
        {
          "output_type": "stream",
          "name": "stdout",
          "text": [
            "              precision    recall  f1-score   support\n",
            "\n",
            "           0       0.70      0.72      0.71     37510\n",
            "           1       0.71      0.68      0.70     37490\n",
            "\n",
            "    accuracy                           0.70     75000\n",
            "   macro avg       0.70      0.70      0.70     75000\n",
            "weighted avg       0.70      0.70      0.70     75000\n",
            "\n"
          ]
        },
        {
          "output_type": "display_data",
          "data": {
            "text/plain": [
              "<Figure size 640x480 with 2 Axes>"
            ],
            "image/png": "[encoded data removed]"
          },
          "metadata": {}
        }
      ],
      "source": [
        "RFmodel = RandomForestClassifier(max_depth=4, random_state=0)\n",
        "RFmodel.fit(X_train, y_train)\n",
        "model_Evaluate(RFmodel)"
      ]
    },
    {
      "cell_type": "markdown",
      "id": "RsOwEr4sf25r",
      "metadata": {
        "id": "RsOwEr4sf25r"
      },
      "source": [
        "### GradientBoostingClassifier"
      ]
    },
    {
      "cell_type": "code",
      "execution_count": null,
      "id": "DU6yFPtBf2ir",
      "metadata": {
        "id": "DU6yFPtBf2ir",
        "colab": {
          "base_uri": "https://localhost:8080/",
          "height": 674
        },
        "outputId": "e50598f4-1f9c-4924-fc31-e5eee0a1b5b1"
      },
      "outputs": [
        {
          "output_type": "stream",
          "name": "stdout",
          "text": [
            "              precision    recall  f1-score   support\n",
            "\n",
            "           0       0.71      0.76      0.74     37510\n",
            "           1       0.74      0.70      0.72     37490\n",
            "\n",
            "    accuracy                           0.73     75000\n",
            "   macro avg       0.73      0.73      0.73     75000\n",
            "weighted avg       0.73      0.73      0.73     75000\n",
            "\n"
          ]
        },
        {
          "output_type": "display_data",
          "data": {
            "text/plain": [
              "<Figure size 640x480 with 2 Axes>"
            ],
            "image/png": "[encoded data removed]"
          },
          "metadata": {}
        }
      ],
      "source": [
        "GBmodel = GradientBoostingClassifier(n_estimators=100, learning_rate=1.0, max_depth=1, random_state=0)\n",
        "GBmodel.fit(X_train, y_train)\n",
        "model_Evaluate(GBmodel)"
      ]
    },
    {
      "cell_type": "markdown",
      "id": "1598c577-447e-403b-ac63-4924cb796814",
      "metadata": {
        "id": "1598c577-447e-403b-ac63-4924cb796814"
      },
      "source": [
        "## Saving the Models\n",
        "We're using PICKLE to save Vectoriser and BernoulliNB, Logistic Regression Model for later use."
      ]
    },
    {
      "cell_type": "code",
      "execution_count": null,
      "id": "921d8ac0-3ba0-4111-bc84-c5ab043b4bab",
      "metadata": {
        "id": "921d8ac0-3ba0-4111-bc84-c5ab043b4bab"
      },
      "outputs": [],
      "source": [
        "file = open('vectoriser_youtube.pickle','wb')\n",
        "pickle.dump(vectoriser, file)\n",
        "file.close()\n",
        "\n",
        "file = open('Sentiment-LR-youtube.pickle','wb')\n",
        "pickle.dump(LRmodel, file)\n",
        "file.close()\n",
        "\n",
        "file = open('Sentiment-BNB-youtube.pickle','wb')\n",
        "pickle.dump(BNBmodel, file)\n",
        "file.close()\n",
        "\n",
        "file = open('Sentiment-SVC-youtube.pickle','wb')\n",
        "pickle.dump(SVCmodel, file)\n",
        "file.close()\n",
        "\n",
        "file = open('Sentiment-RF-youtube.pickle','wb')\n",
        "pickle.dump(RFmodel, file)\n",
        "file.close()\n",
        "\n",
        "file = open('Sentiment-GB-youtube.pickle','wb')\n",
        "pickle.dump(GBmodel, file)\n",
        "file.close()"
      ]
    },
    {
      "cell_type": "markdown",
      "id": "e56917d8-7879-41da-b58a-bd14d1b5b49e",
      "metadata": {
        "id": "e56917d8-7879-41da-b58a-bd14d1b5b49e"
      },
      "source": [
        "# Using the Model.\n",
        "To use the model for Sentiment Prediction we need to import the Vectoriser and LR Model using Pickle.\n",
        "\n",
        "The vectoriser can be used to transform data to matrix of TF-IDF Features. While the model can be used to predict the sentiment of the transformed Data. The text whose sentiment has to be predicted however must be preprocessed."
      ]
    },
    {
      "cell_type": "code",
      "source": [
        "from nltk.corpus import stopwords"
      ],
      "metadata": {
        "id": "UZX7azszRHvu"
      },
      "id": "UZX7azszRHvu",
      "execution_count": null,
      "outputs": []
    },
    {
      "cell_type": "code",
      "execution_count": null,
      "id": "126c60c8-1cd9-47f2-b8ef-71962968807b",
      "metadata": {
        "id": "126c60c8-1cd9-47f2-b8ef-71962968807b"
      },
      "outputs": [],
      "source": [
        "def load_models():\n",
        "    '''\n",
        "    path for pickled models\n",
        "    '''\n",
        "\n",
        "    # /content/drive/MyDrive/Sentiment-LR-youtube.pickle\n",
        "    # /content/drive/MyDrive/Sentiment-BNB-youtube.pickle\n",
        "    # /content/drive/MyDrive/Sentiment-SVC-youtube.pickle\n",
        "    # /content/drive/MyDrive/Sentiment-RF-youtube.pickle\n",
        "    # /content/drive/MyDrive/Sentiment-GB-youtube.pickle\n",
        "    # /content/drive/MyDrive/vectoriser_youtube.pickle\n",
        "\n",
        "    # Load the vectoriser.\n",
        "    file = open('/content/drive/MyDrive/vectoriser_youtube.pickle', 'rb')\n",
        "    vectoriser = pickle.load(file)\n",
        "    file.close()\n",
        "\n",
        "    # Load the LR Model.\n",
        "    file = open('/content/drive/MyDrive/Sentiment-LR-youtube.pickle', 'rb')\n",
        "    LRmodel = pickle.load(file)\n",
        "    file.close()\n",
        "\n",
        "    # Load the BNB Model.\n",
        "    file = open('/content/drive/MyDrive/Sentiment-BNB-youtube.pickle', 'rb')\n",
        "    BNBmodel = pickle.load(file)\n",
        "    file.close()\n",
        "\n",
        "    # Load the SVC Model.\n",
        "    file = open('/content/drive/MyDrive/Sentiment-SVC-youtube.pickle', 'rb')\n",
        "    SVCmodel = pickle.load(file)\n",
        "    file.close()\n",
        "\n",
        "    # Load the RF Model.\n",
        "    file = open('/content/drive/MyDrive/Sentiment-RF-youtube.pickle', 'rb')\n",
        "    RFmodel = pickle.load(file)\n",
        "    file.close()\n",
        "\n",
        "    # Load the GB Model.\n",
        "    file = open('/content/drive/MyDrive/Sentiment-GB-youtube.pickle', 'rb')\n",
        "    GBmodel = pickle.load(file)\n",
        "    file.close()\n",
        "\n",
        "    return vectoriser, LRmodel, BNBmodel, SVCmodel, RFmodel, GBmodel"
      ]
    },
    {
      "cell_type": "code",
      "source": [
        "vectoriser, LRmodel, BNBmodel, SVCmodel, RFmodel, GBmodel = load_models()"
      ],
      "metadata": {
        "id": "6VBvOJw5kbH5"
      },
      "id": "6VBvOJw5kbH5",
      "execution_count": null,
      "outputs": []
    },
    {
      "cell_type": "code",
      "source": [
        "def predict(vectoriser, model, text):\n",
        "    # Predict the sentiment\n",
        "    textdata = vectoriser.transform(preprocess(text))\n",
        "    sentiment = model.predict(textdata)\n",
        "\n",
        "    # Make a list of text with sentiment.\n",
        "    data = []\n",
        "    for text, pred in zip(text, sentiment):\n",
        "        data.append((text,pred))\n",
        "\n",
        "    # Convert the list into a Pandas DataFrame.\n",
        "    df = pd.DataFrame(data, columns = ['text','sentiment'])\n",
        "    df = df.replace([0,1], [\"Negative\",\"Positive\"])\n",
        "    return df"
      ],
      "metadata": {
        "id": "H-Q-xfs6j42o"
      },
      "id": "H-Q-xfs6j42o",
      "execution_count": null,
      "outputs": []
    },
    {
      "cell_type": "code",
      "source": [
        "'''\n",
        "put youtube dataset using pickel model for results\n",
        "'''\n",
        "\n",
        "text = processedcomments\n",
        "df_LR = predict(vectoriser, LRmodel, text)\n",
        "df_BNB = predict(vectoriser, BNBmodel, text)\n",
        "df_SVC = predict(vectoriser, SVCmodel, text)\n",
        "df_RF = predict(vectoriser, RFmodel, text)\n",
        "df_GB = predict(vectoriser, GBmodel, text)\n",
        "\n",
        "# df_BNB = predict(vectoriser, LRmodel, text)\n",
        "\n",
        "# if __name__==\"__main__\":\n",
        "#     # Loading the models.\n",
        "#     vectoriser, LRmodel = load_models()\n",
        "\n",
        "#     # Text to classify should be in a list.\n",
        "#     text = processedcomments\n",
        "\n",
        "#     df = predict(vectoriser, LRmodel, text)\n",
        "#     print(df.head())\n",
        "#     df"
      ],
      "metadata": {
        "id": "UoRKjGmVj8Hr"
      },
      "id": "UoRKjGmVj8Hr",
      "execution_count": null,
      "outputs": []
    },
    {
      "cell_type": "code",
      "source": [
        "df_LR.head()\n",
        "# df_BNB.head()\n",
        "# df_SVC.head()\n",
        "# df_RF.head()\n",
        "# df_GB.head()"
      ],
      "metadata": {
        "colab": {
          "base_uri": "https://localhost:8080/",
          "height": 206
        },
        "id": "eS5yQEJq0vnF",
        "outputId": "7153ff2d-ff6a-4676-cd49-65bf80281fce"
      },
      "id": "eS5yQEJq0vnF",
      "execution_count": null,
      "outputs": [
        {
          "output_type": "execute_result",
          "data": {
            "text/plain": [
              "                                                text sentiment\n",
              "0  productive br 39 much rather learn chill happy...  Positive\n",
              "1        simple rich get richer ai poor remain poor   Negative\n",
              "2  eventually artificial intelligence take human ...  Positive\n",
              "3  side ai big city like berlin london highest co...  Positive\n",
              "4  quot 39 making machine human like make human m...  Positive"
            ],
            "text/html": [
              "\n",
              "  <div id=\"df-ef227733-bb90-40a0-8bce-25d6c10c898a\" class=\"colab-df-container\">\n",
              "    <div>\n",
              "<style scoped>\n",
              "    .dataframe tbody tr th:only-of-type {\n",
              "        vertical-align: middle;\n",
              "    }\n",
              "\n",
              "    .dataframe tbody tr th {\n",
              "        vertical-align: top;\n",
              "    }\n",
              "\n",
              "    .dataframe thead th {\n",
              "        text-align: right;\n",
              "    }\n",
              "</style>\n",
              "<table border=\"1\" class=\"dataframe\">\n",
              "  <thead>\n",
              "    <tr style=\"text-align: right;\">\n",
              "      <th></th>\n",
              "      <th>text</th>\n",
              "      <th>sentiment</th>\n",
              "    </tr>\n",
              "  </thead>\n",
              "  <tbody>\n",
              "    <tr>\n",
              "      <th>0</th>\n",
              "      <td>productive br 39 much rather learn chill happy...</td>\n",
              "      <td>Positive</td>\n",
              "    </tr>\n",
              "    <tr>\n",
              "      <th>1</th>\n",
              "      <td>simple rich get richer ai poor remain poor</td>\n",
              "      <td>Negative</td>\n",
              "    </tr>\n",
              "    <tr>\n",
              "      <th>2</th>\n",
              "      <td>eventually artificial intelligence take human ...</td>\n",
              "      <td>Positive</td>\n",
              "    </tr>\n",
              "    <tr>\n",
              "      <th>3</th>\n",
              "      <td>side ai big city like berlin london highest co...</td>\n",
              "      <td>Positive</td>\n",
              "    </tr>\n",
              "    <tr>\n",
              "      <th>4</th>\n",
              "      <td>quot 39 making machine human like make human m...</td>\n",
              "      <td>Positive</td>\n",
              "    </tr>\n",
              "  </tbody>\n",
              "</table>\n",
              "</div>\n",
              "    <div class=\"colab-df-buttons\">\n",
              "\n",
              "  <div class=\"colab-df-container\">\n",
              "    <button class=\"colab-df-convert\" onclick=\"convertToInteractive('df-ef227733-bb90-40a0-8bce-25d6c10c898a')\"\n",
              "            title=\"Convert this dataframe to an interactive table.\"\n",
              "            style=\"display:none;\">\n",
              "\n",
              "  <svg xmlns=\"http://www.w3.org/2000/svg\" height=\"24px\" viewBox=\"0 -960 960 960\">\n",
              "    <path d=\"M120-120v-720h720v720H120Zm60-500h600v-160H180v160Zm220 220h160v-160H400v160Zm0 220h160v-160H400v160ZM180-400h160v-160H180v160Zm440 0h160v-160H620v160ZM180-180h160v-160H180v160Zm440 0h160v-160H620v160Z\"/>\n",
              "  </svg>\n",
              "    </button>\n",
              "\n",
              "  <style>\n",
              "    .colab-df-container {\n",
              "      display:flex;\n",
              "      gap: 12px;\n",
              "    }\n",
              "\n",
              "    .colab-df-convert {\n",
              "      background-color: #E8F0FE;\n",
              "      border: none;\n",
              "      border-radius: 50%;\n",
              "      cursor: pointer;\n",
              "      display: none;\n",
              "      fill: #1967D2;\n",
              "      height: 32px;\n",
              "      padding: 0 0 0 0;\n",
              "      width: 32px;\n",
              "    }\n",
              "\n",
              "    .colab-df-convert:hover {\n",
              "      background-color: #E2EBFA;\n",
              "      box-shadow: 0px 1px 2px rgba(60, 64, 67, 0.3), 0px 1px 3px 1px rgba(60, 64, 67, 0.15);\n",
              "      fill: #174EA6;\n",
              "    }\n",
              "\n",
              "    .colab-df-buttons div {\n",
              "      margin-bottom: 4px;\n",
              "    }\n",
              "\n",
              "    [theme=dark] .colab-df-convert {\n",
              "      background-color: #3B4455;\n",
              "      fill: #D2E3FC;\n",
              "    }\n",
              "\n",
              "    [theme=dark] .colab-df-convert:hover {\n",
              "      background-color: #434B5C;\n",
              "      box-shadow: 0px 1px 3px 1px rgba(0, 0, 0, 0.15);\n",
              "      filter: drop-shadow(0px 1px 2px rgba(0, 0, 0, 0.3));\n",
              "      fill: #FFFFFF;\n",
              "    }\n",
              "  </style>\n",
              "\n",
              "    <script>\n",
              "      const buttonEl =\n",
              "        document.querySelector('#df-ef227733-bb90-40a0-8bce-25d6c10c898a button.colab-df-convert');\n",
              "      buttonEl.style.display =\n",
              "        google.colab.kernel.accessAllowed ? 'block' : 'none';\n",
              "\n",
              "      async function convertToInteractive(key) {\n",
              "        const element = document.querySelector('#df-ef227733-bb90-40a0-8bce-25d6c10c898a');\n",
              "        const dataTable =\n",
              "          await google.colab.kernel.invokeFunction('convertToInteractive',\n",
              "                                                    [key], {});\n",
              "        if (!dataTable) return;\n",
              "\n",
              "        const docLinkHtml = 'Like what you see? Visit the ' +\n",
              "          '<a target=\"_blank\" href=https://colab.research.google.com/notebooks/data_table.ipynb>data table notebook</a>'\n",
              "          + ' to learn more about interactive tables.';\n",
              "        element.innerHTML = '';\n",
              "        dataTable['output_type'] = 'display_data';\n",
              "        await google.colab.output.renderOutput(dataTable, element);\n",
              "        const docLink = document.createElement('div');\n",
              "        docLink.innerHTML = docLinkHtml;\n",
              "        element.appendChild(docLink);\n",
              "      }\n",
              "    </script>\n",
              "  </div>\n",
              "\n",
              "\n",
              "<div id=\"df-79ef805f-8bc0-43e8-a5e5-13640544da7f\">\n",
              "  <button class=\"colab-df-quickchart\" onclick=\"quickchart('df-79ef805f-8bc0-43e8-a5e5-13640544da7f')\"\n",
              "            title=\"Suggest charts\"\n",
              "            style=\"display:none;\">\n",
              "\n",
              "<svg xmlns=\"http://www.w3.org/2000/svg\" height=\"24px\"viewBox=\"0 0 24 24\"\n",
              "     width=\"24px\">\n",
              "    <g>\n",
              "        <path d=\"M19 3H5c-1.1 0-2 .9-2 2v14c0 1.1.9 2 2 2h14c1.1 0 2-.9 2-2V5c0-1.1-.9-2-2-2zM9 17H7v-7h2v7zm4 0h-2V7h2v10zm4 0h-2v-4h2v4z\"/>\n",
              "    </g>\n",
              "</svg>\n",
              "  </button>\n",
              "\n",
              "<style>\n",
              "  .colab-df-quickchart {\n",
              "      --bg-color: #E8F0FE;\n",
              "      --fill-color: #1967D2;\n",
              "      --hover-bg-color: #E2EBFA;\n",
              "      --hover-fill-color: #174EA6;\n",
              "      --disabled-fill-color: #AAA;\n",
              "      --disabled-bg-color: #DDD;\n",
              "  }\n",
              "\n",
              "  [theme=dark] .colab-df-quickchart {\n",
              "      --bg-color: #3B4455;\n",
              "      --fill-color: #D2E3FC;\n",
              "      --hover-bg-color: #434B5C;\n",
              "      --hover-fill-color: #FFFFFF;\n",
              "      --disabled-bg-color: #3B4455;\n",
              "      --disabled-fill-color: #666;\n",
              "  }\n",
              "\n",
              "  .colab-df-quickchart {\n",
              "    background-color: var(--bg-color);\n",
              "    border: none;\n",
              "    border-radius: 50%;\n",
              "    cursor: pointer;\n",
              "    display: none;\n",
              "    fill: var(--fill-color);\n",
              "    height: 32px;\n",
              "    padding: 0;\n",
              "    width: 32px;\n",
              "  }\n",
              "\n",
              "  .colab-df-quickchart:hover {\n",
              "    background-color: var(--hover-bg-color);\n",
              "    box-shadow: 0 1px 2px rgba(60, 64, 67, 0.3), 0 1px 3px 1px rgba(60, 64, 67, 0.15);\n",
              "    fill: var(--button-hover-fill-color);\n",
              "  }\n",
              "\n",
              "  .colab-df-quickchart-complete:disabled,\n",
              "  .colab-df-quickchart-complete:disabled:hover {\n",
              "    background-color: var(--disabled-bg-color);\n",
              "    fill: var(--disabled-fill-color);\n",
              "    box-shadow: none;\n",
              "  }\n",
              "\n",
              "  .colab-df-spinner {\n",
              "    border: 2px solid var(--fill-color);\n",
              "    border-color: transparent;\n",
              "    border-bottom-color: var(--fill-color);\n",
              "    animation:\n",
              "      spin 1s steps(1) infinite;\n",
              "  }\n",
              "\n",
              "  @keyframes spin {\n",
              "    0% {\n",
              "      border-color: transparent;\n",
              "      border-bottom-color: var(--fill-color);\n",
              "      border-left-color: var(--fill-color);\n",
              "    }\n",
              "    20% {\n",
              "      border-color: transparent;\n",
              "      border-left-color: var(--fill-color);\n",
              "      border-top-color: var(--fill-color);\n",
              "    }\n",
              "    30% {\n",
              "      border-color: transparent;\n",
              "      border-left-color: var(--fill-color);\n",
              "      border-top-color: var(--fill-color);\n",
              "      border-right-color: var(--fill-color);\n",
              "    }\n",
              "    40% {\n",
              "      border-color: transparent;\n",
              "      border-right-color: var(--fill-color);\n",
              "      border-top-color: var(--fill-color);\n",
              "    }\n",
              "    60% {\n",
              "      border-color: transparent;\n",
              "      border-right-color: var(--fill-color);\n",
              "    }\n",
              "    80% {\n",
              "      border-color: transparent;\n",
              "      border-right-color: var(--fill-color);\n",
              "      border-bottom-color: var(--fill-color);\n",
              "    }\n",
              "    90% {\n",
              "      border-color: transparent;\n",
              "      border-bottom-color: var(--fill-color);\n",
              "    }\n",
              "  }\n",
              "</style>\n",
              "\n",
              "  <script>\n",
              "    async function quickchart(key) {\n",
              "      const quickchartButtonEl =\n",
              "        document.querySelector('#' + key + ' button');\n",
              "      quickchartButtonEl.disabled = true;  // To prevent multiple clicks.\n",
              "      quickchartButtonEl.classList.add('colab-df-spinner');\n",
              "      try {\n",
              "        const charts = await google.colab.kernel.invokeFunction(\n",
              "            'suggestCharts', [key], {});\n",
              "      } catch (error) {\n",
              "        console.error('Error during call to suggestCharts:', error);\n",
              "      }\n",
              "      quickchartButtonEl.classList.remove('colab-df-spinner');\n",
              "      quickchartButtonEl.classList.add('colab-df-quickchart-complete');\n",
              "    }\n",
              "    (() => {\n",
              "      let quickchartButtonEl =\n",
              "        document.querySelector('#df-79ef805f-8bc0-43e8-a5e5-13640544da7f button');\n",
              "      quickchartButtonEl.style.display =\n",
              "        google.colab.kernel.accessAllowed ? 'block' : 'none';\n",
              "    })();\n",
              "  </script>\n",
              "</div>\n",
              "\n",
              "    </div>\n",
              "  </div>\n"
            ],
            "application/vnd.google.colaboratory.intrinsic+json": {
              "type": "dataframe",
              "summary": "{\n  \"name\": \"# df_GB\",\n  \"rows\": 5,\n  \"fields\": [\n    {\n      \"column\": \"text\",\n      \"properties\": {\n        \"dtype\": \"string\",\n        \"num_unique_values\": 5,\n        \"samples\": [\n          \"simple rich get richer ai poor remain poor \",\n          \"quot 39 making machine human like make human machine like quot \",\n          \"eventually artificial intelligence take human job ubi introduced \"\n        ],\n        \"semantic_type\": \"\",\n        \"description\": \"\"\n      }\n    },\n    {\n      \"column\": \"sentiment\",\n      \"properties\": {\n        \"dtype\": \"category\",\n        \"num_unique_values\": 2,\n        \"samples\": [\n          \"Negative\",\n          \"Positive\"\n        ],\n        \"semantic_type\": \"\",\n        \"description\": \"\"\n      }\n    }\n  ]\n}"
            }
          },
          "metadata": {},
          "execution_count": 35
        }
      ]
    },
    {
      "cell_type": "markdown",
      "source": [
        "## Save Youtube Analysis Results\n",
        "using pickled ml models"
      ],
      "metadata": {
        "id": "P4oY1TgT46YJ"
      },
      "id": "P4oY1TgT46YJ"
    },
    {
      "cell_type": "code",
      "execution_count": null,
      "id": "4H8pex5H_OV8",
      "metadata": {
        "id": "4H8pex5H_OV8"
      },
      "outputs": [],
      "source": [
        "df_BNB.to_csv('youtube_ai_BNB_test_nltkstopwords.csv')\n",
        "df_SVC.to_csv('youtube_ai_SVC_test_nltkstopwords.csv')\n",
        "df_LR.to_csv('youtube_ai_LR_test_nltkstopwords.csv')\n",
        "df_RF.to_csv('youtube_ai_RF_test_nltkstopwords.csv')\n",
        "df_GB.to_csv('youtube_ai_GB_test_nltkstopwords.csv')"
      ]
    }
  ],
  "metadata": {
    "accelerator": "GPU",
    "colab": {
      "gpuType": "T4",
      "provenance": [],
      "toc_visible": true,
      "include_colab_link": true
    },
    "kernelspec": {
      "display_name": "Python 3",
      "name": "python3"
    },
    "language_info": {
      "codemirror_mode": {
        "name": "ipython",
        "version": 3
      },
      "file_extension": ".py",
      "mimetype": "text/x-python",
      "name": "python",
      "nbconvert_exporter": "python",
      "pygments_lexer": "ipython3",
      "version": "3.10.10"
    }
  },
  "nbformat": 4,
  "nbformat_minor": 5
}